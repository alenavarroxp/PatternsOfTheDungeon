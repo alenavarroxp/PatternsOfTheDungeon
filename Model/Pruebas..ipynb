{
 "cells": [
  {
   "cell_type": "code",
   "execution_count": 20,
   "metadata": {},
   "outputs": [
    {
     "name": "stdout",
     "output_type": "stream",
     "text": [
      "<Juego.Juego object at 0x0000018A6EB83510>\n"
     ]
    }
   ],
   "source": [
    "import os\n",
    "from Juego import Juego\n",
    "for filename in os.listdir('../Model/'):\n",
    "    if filename.endswith('.py'):\n",
    "        module = filename[:-3]\n",
    "        exec(f'from {module} import *')\n",
    "\n",
    "# Llamo al constructor de Juego\n",
    "juego = Juego()\n",
    "# Inicializo el laberinto de Juego con 2 Habitaciones\n",
    "juego.laberinto2HabitacionesFM()\n",
    "# Imprimo\n",
    "print(juego)\n"
   ]
  }
 ],
 "metadata": {
  "kernelspec": {
   "display_name": "Python 3",
   "language": "python",
   "name": "python3"
  },
  "language_info": {
   "codemirror_mode": {
    "name": "ipython",
    "version": 3
   },
   "file_extension": ".py",
   "mimetype": "text/x-python",
   "name": "python",
   "nbconvert_exporter": "python",
   "pygments_lexer": "ipython3",
   "version": "3.11.0"
  },
  "orig_nbformat": 4
 },
 "nbformat": 4,
 "nbformat_minor": 2
}
